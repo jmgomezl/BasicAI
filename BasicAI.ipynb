{
  "nbformat": 4,
  "nbformat_minor": 0,
  "metadata": {
    "colab": {
      "provenance": [],
      "authorship_tag": "ABX9TyNPEbLqh2MHk1NaUclwrOLI",
      "include_colab_link": true
    },
    "kernelspec": {
      "name": "python3",
      "display_name": "Python 3"
    },
    "language_info": {
      "name": "python"
    }
  },
  "cells": [
    {
      "cell_type": "markdown",
      "metadata": {
        "id": "view-in-github",
        "colab_type": "text"
      },
      "source": [
        "<a href=\"https://colab.research.google.com/github/jmgomezl/BasicAI/blob/main/BasicAI.ipynb\" target=\"_parent\"><img src=\"https://colab.research.google.com/assets/colab-badge.svg\" alt=\"Open In Colab\"/></a>"
      ]
    },
    {
      "cell_type": "markdown",
      "source": [
        "### **Introducción: Construyendo un Clasificador de Árbol de Decisión Simple con scikit-learn**\n",
        "\n",
        "Este notebook demuestra cómo crear un clasificador simple de **Árbol de Decisión** utilizando la biblioteca `scikit-learn`. Vamos a:\n",
        "\n",
        "1. Definir un pequeño conjunto de datos de frutas caracterizadas por su **peso** y **color**.\n",
        "2. Entrenar un modelo de Árbol de Decisión para clasificar las frutas como **manzana** o **pera**.\n",
        "3. Evaluar el desempeño del modelo calculando su **precisión** en un conjunto de prueba.\n",
        "\n",
        "---\n",
        "\n",
        "### **Pasos en el Código**\n",
        "\n",
        "1. **Creación del Conjunto de Datos:**\n",
        "   - El conjunto de datos incluye el peso de las frutas (por ejemplo, 150g, 130g) y sus colores (codificados como 0 para verde y 1 para rojo).\n",
        "   - Las etiquetas objetivo (0 para manzana, 1 para pera) especifican el tipo de fruta.\n",
        "\n",
        "2. **División de Datos:**\n",
        "   - El conjunto de datos se divide en **conjunto de entrenamiento** y **conjunto de prueba** utilizando `train_test_split` para evaluar el modelo con datos no vistos durante el entrenamiento.\n",
        "\n",
        "3. **Entrenamiento del Modelo:**\n",
        "   - Se entrena un **Árbol de Decisión** en el conjunto de entrenamiento.\n",
        "\n",
        "4. **Predicción y Evaluación:**\n",
        "   - El modelo predice las etiquetas del conjunto de prueba.\n",
        "   - Se calcula la **precisión** para medir el desempeño del modelo.\n",
        "\n",
        "---\n",
        "\n",
        "### **Resultados Esperados**\n",
        "\n",
        "Después de ejecutar el código, verás la **precisión** del modelo, que representa la proporción de predicciones correctas realizadas en el conjunto de prueba. Para este conjunto de datos simple, la precisión debería ser generalmente del **100%**, ya que los datos son pequeños y linealmente separables.\n",
        "\n",
        "---\n",
        "\n",
        "### **Ejecuta el Código**\n",
        "\n",
        "Copia y pega el siguiente código en un notebook de Colab, ejecútalo y observa cómo un Árbol de Decisión clasifica correctamente las frutas en base a su peso y color. 🚀"
      ],
      "metadata": {
        "id": "VtQf8UKVeGNs"
      }
    },
    {
      "cell_type": "code",
      "execution_count": 4,
      "metadata": {
        "colab": {
          "base_uri": "https://localhost:8080/"
        },
        "id": "IOg5BB0ZdfO5",
        "outputId": "d6fa1ea0-2cd5-4a14-f069-c1f45a8efe0c"
      },
      "outputs": [
        {
          "output_type": "stream",
          "name": "stdout",
          "text": [
            "Precisión: 1.0\n"
          ]
        }
      ],
      "source": [
        "from sklearn.tree import DecisionTreeClassifier\n",
        "from sklearn.model_selection import train_test_split\n",
        "from sklearn.metrics import accuracy_score\n",
        "\n",
        "# Datos simples: Peso y color (0: verde, 1: rojo) -> Etiqueta (0: manzana, 1: pera)\n",
        "X = [[150, 0], [130, 0], [180, 1], [160, 1]]\n",
        "y = [0, 0, 1, 1]\n",
        "\n",
        "# Dividir datos\n",
        "X_train, X_test, y_train, y_test = train_test_split(X, y, test_size=0.25)\n",
        "\n",
        "# Entrenar modelo\n",
        "model = DecisionTreeClassifier()\n",
        "model.fit(X_train, y_train)\n",
        "# Predecir\n",
        "y_pred = model.predict(X_test)\n",
        "print(\"Precisión:\", accuracy_score(y_test, y_pred))\n"
      ]
    }
  ]
}